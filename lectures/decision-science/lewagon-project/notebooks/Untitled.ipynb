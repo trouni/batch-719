{
 "cells": [
  {
   "cell_type": "code",
   "execution_count": 1,
   "id": "684e3178",
   "metadata": {},
   "outputs": [
    {
     "data": {
      "text/plain": [
       "['/Users/trouni/code/lewagon/batch-719/lectures/decision-science/lewagon-project/notebooks',\n",
       " '/Users/trouni/code/lewagon/batch-719/lectures/decision-science/lewagon-project',\n",
       " '/Users/trouni/.pyenv/versions/3.8.12/lib/python38.zip',\n",
       " '/Users/trouni/.pyenv/versions/3.8.12/lib/python3.8',\n",
       " '/Users/trouni/.pyenv/versions/3.8.12/lib/python3.8/lib-dynload',\n",
       " '',\n",
       " '/Users/trouni/.pyenv/versions/3.8.12/envs/lewagon_current/lib/python3.8/site-packages',\n",
       " '/Users/trouni/code/who-next',\n",
       " '/Users/trouni/.pyenv/versions/3.8.12/envs/lewagon_current/lib/python3.8/site-packages/IPython/extensions',\n",
       " '/Users/trouni/.ipython']"
      ]
     },
     "execution_count": 1,
     "metadata": {},
     "output_type": "execute_result"
    }
   ],
   "source": [
    "import sys\n",
    "sys.path"
   ]
  },
  {
   "cell_type": "code",
   "execution_count": 6,
   "id": "f345c72a",
   "metadata": {},
   "outputs": [
    {
     "data": {
      "text/plain": [
       "['/Users/trouni/code/lewagon/batch-719/lectures/decision-science/lewagon-project/notebooks',\n",
       " '/Users/trouni/.pyenv/versions/3.8.12/lib/python38.zip',\n",
       " '/Users/trouni/.pyenv/versions/3.8.12/lib/python3.8',\n",
       " '/Users/trouni/.pyenv/versions/3.8.12/lib/python3.8/lib-dynload',\n",
       " '',\n",
       " '/Users/trouni/.pyenv/versions/3.8.12/envs/lewagon_current/lib/python3.8/site-packages',\n",
       " '/Users/trouni/code/who-next',\n",
       " '/Users/trouni/.pyenv/versions/3.8.12/envs/lewagon_current/lib/python3.8/site-packages/IPython/extensions',\n",
       " '/Users/trouni/.ipython',\n",
       " '/Users/trouni/code/lewagon/batch-719/lectures/decision-science/lewagon-project']"
      ]
     },
     "execution_count": 6,
     "metadata": {},
     "output_type": "execute_result"
    }
   ],
   "source": [
    "project_folder = '/Users/trouni/code/lewagon/batch-719/lectures/decision-science/lewagon-project'\n",
    "sys.path.append(project_folder)\n",
    "sys.path"
   ]
  },
  {
   "cell_type": "code",
   "execution_count": 1,
   "id": "be6bb61c",
   "metadata": {
    "scrolled": true
   },
   "outputs": [],
   "source": [
    "from lewagon.student import Student"
   ]
  },
  {
   "cell_type": "code",
   "execution_count": 2,
   "id": "02cd1831",
   "metadata": {},
   "outputs": [
    {
     "data": {
      "text/plain": [
       "'/Users/trouni/code/lewagon/batch-719/lectures/decision-science/lewagon-project/notebooks'"
      ]
     },
     "execution_count": 2,
     "metadata": {},
     "output_type": "execute_result"
    }
   ],
   "source": [
    "import os; os.getcwd()"
   ]
  },
  {
   "cell_type": "code",
   "execution_count": null,
   "id": "088fcf89",
   "metadata": {},
   "outputs": [],
   "source": [
    "import ipdb; ipdb.set_trace()"
   ]
  },
  {
   "cell_type": "code",
   "execution_count": 2,
   "id": "04c1000d",
   "metadata": {},
   "outputs": [
    {
     "ename": "SyntaxError",
     "evalue": "Missing parentheses in call to 'print'. Did you mean print('asdfasd)? (875445919.py, line 1)",
     "output_type": "error",
     "traceback": [
      "\u001b[0;36m  File \u001b[0;32m\"/var/folders/tc/hmbgrj1d3ggf18b5s9k9ngk00000gq/T/ipykernel_61505/875445919.py\"\u001b[0;36m, line \u001b[0;32m1\u001b[0m\n\u001b[0;31m    print 'asdfasd\u001b[0m\n\u001b[0m                  ^\u001b[0m\n\u001b[0;31mSyntaxError\u001b[0m\u001b[0;31m:\u001b[0m Missing parentheses in call to 'print'. Did you mean print('asdfasd)?\n"
     ]
    }
   ],
   "source": [
    "print 'asdfasd"
   ]
  },
  {
   "cell_type": "code",
   "execution_count": null,
   "id": "edfb50c4",
   "metadata": {},
   "outputs": [
    {
     "name": "stdout",
     "output_type": "stream",
     "text": [
      "> \u001b[0;32m/var/folders/tc/hmbgrj1d3ggf18b5s9k9ngk00000gq/T/ipykernel_61505/3576742551.py\u001b[0m(1)\u001b[0;36m<module>\u001b[0;34m()\u001b[0m\n",
      "\u001b[0;32m----> 1 \u001b[0;31m\u001b[0mprint\u001b[0m\u001b[0;34m(\u001b[0m\u001b[0mvar_dic_list\u001b[0m\u001b[0;34m(\u001b[0m\u001b[0;34m)\u001b[0m\u001b[0;34m)\u001b[0m\u001b[0;34m\u001b[0m\u001b[0;34m\u001b[0m\u001b[0m\n",
      "\u001b[0m\n"
     ]
    }
   ],
   "source": [
    "%debug"
   ]
  },
  {
   "cell_type": "code",
   "execution_count": null,
   "id": "020018c5",
   "metadata": {},
   "outputs": [],
   "source": []
  }
 ],
 "metadata": {
  "kernelspec": {
   "display_name": "Python 3 (ipykernel)",
   "language": "python",
   "name": "python3"
  },
  "language_info": {
   "codemirror_mode": {
    "name": "ipython",
    "version": 3
   },
   "file_extension": ".py",
   "mimetype": "text/x-python",
   "name": "python",
   "nbconvert_exporter": "python",
   "pygments_lexer": "ipython3",
   "version": "3.8.12"
  },
  "toc": {
   "base_numbering": 1,
   "nav_menu": {},
   "number_sections": true,
   "sideBar": true,
   "skip_h1_title": false,
   "title_cell": "Table of Contents",
   "title_sidebar": "Contents",
   "toc_cell": false,
   "toc_position": {},
   "toc_section_display": true,
   "toc_window_display": false
  },
  "varInspector": {
   "cols": {
    "lenName": 16,
    "lenType": 16,
    "lenVar": 40
   },
   "kernels_config": {
    "python": {
     "delete_cmd_postfix": "",
     "delete_cmd_prefix": "del ",
     "library": "var_list.py",
     "varRefreshCmd": "print(var_dic_list())"
    },
    "r": {
     "delete_cmd_postfix": ") ",
     "delete_cmd_prefix": "rm(",
     "library": "var_list.r",
     "varRefreshCmd": "cat(var_dic_list()) "
    }
   },
   "types_to_exclude": [
    "module",
    "function",
    "builtin_function_or_method",
    "instance",
    "_Feature"
   ],
   "window_display": false
  }
 },
 "nbformat": 4,
 "nbformat_minor": 5
}
